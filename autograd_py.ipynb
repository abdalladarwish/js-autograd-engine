{
 "cells": [
  {
   "cell_type": "code",
   "id": "initial_id",
   "metadata": {
    "collapsed": true,
    "ExecuteTime": {
     "end_time": "2024-06-11T08:19:07.620453Z",
     "start_time": "2024-06-11T08:19:07.615737Z"
    }
   },
   "source": [
    "from random import Random\n",
    "from uuid import uuid4"
   ],
   "outputs": [],
   "execution_count": 1
  },
  {
   "metadata": {
    "ExecuteTime": {
     "end_time": "2024-06-11T08:19:29.712706Z",
     "start_time": "2024-06-11T08:19:29.705087Z"
    }
   },
   "cell_type": "code",
   "source": [
    "SEED = 5\n",
    "random_gen = Random(x = SEED)\n",
    "def generate_pnts(N = 1000):\n",
    "  lst_x, lst_y = [], []\n",
    "  for _ in range(N):\n",
    "    lst_x.append(random_gen.uniform(a = 0, b = 1))\n",
    "    lst_y.append(random_gen.uniform(a = 0, b = 1))\n",
    "  return lst_x, lst_y\n",
    "data_x, data_y = generate_pnts()"
   ],
   "id": "2c1fc792bc8514ce",
   "outputs": [],
   "execution_count": 2
  },
  {
   "metadata": {
    "ExecuteTime": {
     "end_time": "2024-06-11T08:19:37.074551Z",
     "start_time": "2024-06-11T08:19:37.069844Z"
    }
   },
   "cell_type": "code",
   "source": [
    "def calc_grad(x_p, y_p, batch_x, batch_y):\n",
    "    sum_x, sum_y = 0., 0.\n",
    "    for x_i, y_i in zip(batch_x, batch_y):\n",
    "        inv_sqrt = ((x_i - x_p) ** 2 + (y_i - y_p) ** 2) ** (-0.5)\n",
    "        sum_x += inv_sqrt * (x_i - x_p)\n",
    "        sum_y += inv_sqrt * (y_i - y_p)\n",
    "    return - sum_x / len(batch_x), - sum_y / len(batch_x)"
   ],
   "id": "1d4e79be2cd597bb",
   "outputs": [],
   "execution_count": 3
  },
  {
   "metadata": {
    "ExecuteTime": {
     "end_time": "2024-06-11T08:28:19.654209Z",
     "start_time": "2024-06-11T08:28:19.647213Z"
    }
   },
   "cell_type": "code",
   "source": [
    "x_p , y_p = 0.3, 0.3\n",
    "calc_grad(x_p, y_p, data_x, data_y)"
   ],
   "id": "e1152c0da1c31aad",
   "outputs": [
    {
     "data": {
      "text/plain": [
       "(-0.31721406583173956, -0.32132827163992495)"
      ]
     },
     "execution_count": 9,
     "metadata": {},
     "output_type": "execute_result"
    }
   ],
   "execution_count": 9
  },
  {
   "metadata": {
    "ExecuteTime": {
     "end_time": "2024-06-11T08:19:43.493962Z",
     "start_time": "2024-06-11T08:19:43.482186Z"
    }
   },
   "cell_type": "code",
   "source": [
    "class CompNode:\n",
    "        def __init__(self, val, children = [], op = \"assign\"):\n",
    "            self.val = val\n",
    "            self.children = children\n",
    "            self.grad = 0\n",
    "            self.op = op\n",
    "            self.backward_prop = lambda : None\n",
    "            self.identity = uuid4()\n",
    "\n",
    "        def __to_comp_node(self, obj):\n",
    "            if not isinstance(obj, CompNode):\n",
    "                return CompNode(val = obj)\n",
    "            else:\n",
    "                return obj\n",
    "        # you are given an example of doing a subtraction operation\n",
    "        # and defining a method to do the subtraction backward propagation.\n",
    "        def __sub__(self, other):\n",
    "            other = self.__to_comp_node(other)\n",
    "            out = CompNode(val = self.val - other.val,\n",
    "                            children = [self, other],\n",
    "                            op = \"sub\")\n",
    "            def _backward_prop():\n",
    "                self.grad += out.grad * 1\n",
    "                other.grad += out.grad * (-1)\n",
    "            out.backward_prop = _backward_prop\n",
    "            return out\n",
    "        def __rsub__(self, other):\n",
    "            other = self.__to_comp_node(other)\n",
    "            return other - self\n",
    "        # Implement the add, multiplication, power functions\n",
    "        def __add__(self, other):\n",
    "            # write your code here\n",
    "            other = self.__to_comp_node(other)\n",
    "            out = CompNode(val = self.val + other.val,\n",
    "                            children=[self, other],\n",
    "                            op=\"add\")\n",
    "            def _backward_prop():\n",
    "                # write your code here\n",
    "                self.grad += out.grad * 1\n",
    "                other.grad += out.grad * 1\n",
    "            out.backward_prop = _backward_prop\n",
    "            # make sure to return the output\n",
    "            return out\n",
    "        def __radd__(self, other):\n",
    "            other = self.__to_comp_node(other)\n",
    "            return other + self\n",
    "        def __mul__(self, other):\n",
    "            # write your code here\n",
    "            other = self.__to_comp_node(other)\n",
    "            out = CompNode(val=self.val * other.val,\n",
    "                            children=[self, other],\n",
    "                            op=\"mul\")\n",
    "            def _backward_prop():\n",
    "                # write your code here\n",
    "                self.grad += out.grad * other.val\n",
    "                other.grad += out.grad * self.val\n",
    "            out.backward_prop = _backward_prop\n",
    "            # make sure to return the output\n",
    "            return out\n",
    "        def __rmul__(self, other):\n",
    "            other = self.__to_comp_node(other)\n",
    "            return other * self\n",
    "        def __pow__(self, exponent):\n",
    "            if not isinstance(exponent, (int, float)):\n",
    "                raise ValueError(\"Unsupported types\")\n",
    "            # write your code here\n",
    "            out = CompNode(val=self.val ** exponent,\n",
    "                            children=[self],\n",
    "                            op=\"pow\")\n",
    "            def _backward_prop():\n",
    "                # write your code here\n",
    "                self.grad += out.grad * exponent * (self.val ** (exponent - 1))\n",
    "            # make sure to return the output\n",
    "            out.backward_prop = _backward_prop\n",
    "            return out\n",
    "        def __eq__(self, other):\n",
    "            return self.val == other.val\n",
    "        def __repr__(self):\n",
    "            return f\"op: {self.op} | val: {self.val:.4f} | children: {len(self.children)} | grad: {self.grad}\"\n",
    "        def __hash__(self):\n",
    "            return int(self.identity)\n",
    "        def topo_sort (self, collect_edges = False):\n",
    "            res = []\n",
    "            visited = set()\n",
    "            if collect_edges : edges = []\n",
    "            def visit(node):\n",
    "                if node not in visited:\n",
    "                    visited.add(node)\n",
    "                    for child in node.children:\n",
    "                        if collect_edges:\n",
    "                            edges.append((child, node))\n",
    "                        visit(child)\n",
    "                    res.append(node)\n",
    "            visit(self)\n",
    "            if collect_edges:\n",
    "                return res, edges\n",
    "            return res\n",
    "        def backward(self):\n",
    "            # implement backward function\n",
    "            # to do back propagation\n",
    "            # for all nodes\n",
    "            nodes = self.topo_sort()\n",
    "            self.grad = 1\n",
    "            for node in reversed(nodes):\n",
    "                node.backward_prop()"
   ],
   "id": "af791e776f335798",
   "outputs": [],
   "execution_count": 4
  },
  {
   "metadata": {
    "ExecuteTime": {
     "end_time": "2024-06-11T08:19:48.823312Z",
     "start_time": "2024-06-11T08:19:48.819232Z"
    }
   },
   "cell_type": "code",
   "source": [
    "def loss_graph(x_p, y_p, data_x, data_y):\n",
    "  loss = 0\n",
    "  for curr_x, curr_y in zip(data_x, data_y):\n",
    "    Ix, Iy = x_p - curr_x, y_p - curr_y\n",
    "    g_x, g_y = Ix ** 2, Iy ** 2\n",
    "    M = g_x + g_y\n",
    "    loss+= M** 0.5\n",
    "  return (1 / len(data_x)) * loss"
   ],
   "id": "6fa90e706ab05a12",
   "outputs": [],
   "execution_count": 5
  },
  {
   "metadata": {
    "ExecuteTime": {
     "end_time": "2024-06-11T08:29:21.377375Z",
     "start_time": "2024-06-11T08:29:21.330667Z"
    }
   },
   "cell_type": "code",
   "source": [
    "x_p, y_p = CompNode(val=0.3), CompNode(val=0.3)\n",
    "curr_loss = loss_graph(x_p, y_p, data_x, data_y)\n",
    "curr_loss.backward()"
   ],
   "id": "ee2c7e2a4fef2659",
   "outputs": [],
   "execution_count": 10
  },
  {
   "metadata": {
    "ExecuteTime": {
     "end_time": "2024-06-11T08:29:25.196815Z",
     "start_time": "2024-06-11T08:29:25.191216Z"
    }
   },
   "cell_type": "code",
   "source": "x_p, y_p",
   "id": "7937e4bd68f20b1c",
   "outputs": [
    {
     "data": {
      "text/plain": [
       "(op: assign | val: 0.3000 | children: 0 | grad: -0.3172140658317395,\n",
       " op: assign | val: 0.3000 | children: 0 | grad: -0.32132827163992483)"
      ]
     },
     "execution_count": 11,
     "metadata": {},
     "output_type": "execute_result"
    }
   ],
   "execution_count": 11
  },
  {
   "metadata": {},
   "cell_type": "code",
   "outputs": [],
   "execution_count": null,
   "source": "",
   "id": "60135e78a99538de"
  }
 ],
 "metadata": {
  "kernelspec": {
   "display_name": "Python 3",
   "language": "python",
   "name": "python3"
  },
  "language_info": {
   "codemirror_mode": {
    "name": "ipython",
    "version": 2
   },
   "file_extension": ".py",
   "mimetype": "text/x-python",
   "name": "python",
   "nbconvert_exporter": "python",
   "pygments_lexer": "ipython2",
   "version": "2.7.6"
  }
 },
 "nbformat": 4,
 "nbformat_minor": 5
}
